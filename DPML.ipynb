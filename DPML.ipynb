{
 "cells": [
  {
   "cell_type": "markdown",
   "id": "573408c2",
   "metadata": {},
   "source": [
    "# Dataset : [Machine Predictive Maintenance Classification](https://www.kaggle.com/shivamb/machine-predictive-maintenance-classification)/[UCI](https://archive.ics.uci.edu/ml/datasets/AI4I+2020+Predictive+Maintenance+Dataset)\n",
    "## It can be used to predict machine failure (binary) and type (multiclass)\n",
    "### We have trained our models to predict failure type (multiclass classification)\n",
    "\n",
    "#### The dataset consists of 10,000 data points stored as rows with 10 columns\n",
    "\n",
    "1. UID: unique identifier ranging from 1 to 10000\n",
    "2. productID: consisting of a letter L, M, or H for low (50% of all products), medium (30%), and high (20%) as product quality variants and a variant-specific serial number\n",
    "3. Type : H/L/M\n",
    "4. air temperature in Kelvin : generated using a random walk process later normalized to a standard deviation of 2 K around 300 K\n",
    "5. process temperature in Kelvin : generated using a random walk process normalized to a standard deviation of 1 K, added to the air temperature plus 10 K.\n",
    "6. rotational speed in rpm : calculated from powepower of 2860 W, overlaid with a normally distributed noise\n",
    "7. torque in Nm: torque values are normally distributed around 40 Nm with an Ïƒ = 10 Nm and no negative values.\n",
    "8. tool wear [min]: The quality variants H/M/L add 5/3/2 minutes of tool wear to the used tool in the process. \n",
    "\n",
    "9. Target : Indicates if machine has failed or not  : 0 or 1\n",
    "10. Failure Type : Indicates the type of failure : No Failure, Heat Dissipation Failure, Power Failure, Overstrain Failure, Tool Wear Failure, Random Failures"
   ]
  },
  {
   "cell_type": "markdown",
   "id": "155e509c",
   "metadata": {},
   "source": [
    "## Importing required modules and functions"
   ]
  },
  {
   "cell_type": "code",
   "execution_count": 1,
   "id": "accf7bda",
   "metadata": {},
   "outputs": [],
   "source": [
    "import tensorflow as tf\n",
    "import numpy as np\n",
    "import pandas as pd\n",
    "import seaborn as sns\n",
    "import matplotlib\n",
    "import imblearn\n",
    "import matplotlib.pyplot as plt\n",
    "import numpy as np\n",
    "from imblearn.combine import SMOTETomek\n",
    "from collections import Counter\n",
    "from sklearn.preprocessing import LabelEncoder\n",
    "from sklearn.preprocessing import LabelBinarizer\n",
    "from sklearn.preprocessing import OneHotEncoder\n",
    "from sklearn.preprocessing import MinMaxScaler,StandardScaler,RobustScaler\n",
    "from sklearn.ensemble import RandomForestClassifier\n",
    "from sklearn import model_selection\n",
    "from sklearn.metrics import confusion_matrix,classification_report,accuracy_score,roc_auc_score\n",
    "from sklearn.svm import SVC\n",
    "import warnings\n",
    "warnings.filterwarnings('ignore')\n",
    "\n"
   ]
  },
  {
   "cell_type": "markdown",
   "id": "2c63fdd0",
   "metadata": {},
   "source": [
    "# Exploratory Data Analysis : \n",
    "## Loading dataset from the csv file into a dataframe"
   ]
  },
  {
   "cell_type": "code",
   "execution_count": 2,
   "id": "07e0ef23",
   "metadata": {
    "scrolled": true
   },
   "outputs": [
    {
     "data": {
      "text/html": [
       "<div>\n",
       "<style scoped>\n",
       "    .dataframe tbody tr th:only-of-type {\n",
       "        vertical-align: middle;\n",
       "    }\n",
       "\n",
       "    .dataframe tbody tr th {\n",
       "        vertical-align: top;\n",
       "    }\n",
       "\n",
       "    .dataframe thead th {\n",
       "        text-align: right;\n",
       "    }\n",
       "</style>\n",
       "<table border=\"1\" class=\"dataframe\">\n",
       "  <thead>\n",
       "    <tr style=\"text-align: right;\">\n",
       "      <th></th>\n",
       "      <th>UDI</th>\n",
       "      <th>Product ID</th>\n",
       "      <th>Type</th>\n",
       "      <th>Air temperature [K]</th>\n",
       "      <th>Process temperature [K]</th>\n",
       "      <th>Rotational speed [rpm]</th>\n",
       "      <th>Torque [Nm]</th>\n",
       "      <th>Tool wear [min]</th>\n",
       "      <th>Target</th>\n",
       "      <th>Failure Type</th>\n",
       "    </tr>\n",
       "  </thead>\n",
       "  <tbody>\n",
       "    <tr>\n",
       "      <th>0</th>\n",
       "      <td>1</td>\n",
       "      <td>M14860</td>\n",
       "      <td>M</td>\n",
       "      <td>298.1</td>\n",
       "      <td>308.6</td>\n",
       "      <td>1551</td>\n",
       "      <td>42.8</td>\n",
       "      <td>0</td>\n",
       "      <td>0</td>\n",
       "      <td>No Failure</td>\n",
       "    </tr>\n",
       "    <tr>\n",
       "      <th>1</th>\n",
       "      <td>2</td>\n",
       "      <td>L47181</td>\n",
       "      <td>L</td>\n",
       "      <td>298.2</td>\n",
       "      <td>308.7</td>\n",
       "      <td>1408</td>\n",
       "      <td>46.3</td>\n",
       "      <td>3</td>\n",
       "      <td>0</td>\n",
       "      <td>No Failure</td>\n",
       "    </tr>\n",
       "    <tr>\n",
       "      <th>2</th>\n",
       "      <td>3</td>\n",
       "      <td>L47182</td>\n",
       "      <td>L</td>\n",
       "      <td>298.1</td>\n",
       "      <td>308.5</td>\n",
       "      <td>1498</td>\n",
       "      <td>49.4</td>\n",
       "      <td>5</td>\n",
       "      <td>0</td>\n",
       "      <td>No Failure</td>\n",
       "    </tr>\n",
       "    <tr>\n",
       "      <th>3</th>\n",
       "      <td>4</td>\n",
       "      <td>L47183</td>\n",
       "      <td>L</td>\n",
       "      <td>298.2</td>\n",
       "      <td>308.6</td>\n",
       "      <td>1433</td>\n",
       "      <td>39.5</td>\n",
       "      <td>7</td>\n",
       "      <td>0</td>\n",
       "      <td>No Failure</td>\n",
       "    </tr>\n",
       "    <tr>\n",
       "      <th>4</th>\n",
       "      <td>5</td>\n",
       "      <td>L47184</td>\n",
       "      <td>L</td>\n",
       "      <td>298.2</td>\n",
       "      <td>308.7</td>\n",
       "      <td>1408</td>\n",
       "      <td>40.0</td>\n",
       "      <td>9</td>\n",
       "      <td>0</td>\n",
       "      <td>No Failure</td>\n",
       "    </tr>\n",
       "  </tbody>\n",
       "</table>\n",
       "</div>"
      ],
      "text/plain": [
       "   UDI Product ID Type  Air temperature [K]  Process temperature [K]  \\\n",
       "0    1     M14860    M                298.1                    308.6   \n",
       "1    2     L47181    L                298.2                    308.7   \n",
       "2    3     L47182    L                298.1                    308.5   \n",
       "3    4     L47183    L                298.2                    308.6   \n",
       "4    5     L47184    L                298.2                    308.7   \n",
       "\n",
       "   Rotational speed [rpm]  Torque [Nm]  Tool wear [min]  Target Failure Type  \n",
       "0                    1551         42.8                0       0   No Failure  \n",
       "1                    1408         46.3                3       0   No Failure  \n",
       "2                    1498         49.4                5       0   No Failure  \n",
       "3                    1433         39.5                7       0   No Failure  \n",
       "4                    1408         40.0                9       0   No Failure  "
      ]
     },
     "execution_count": 2,
     "metadata": {},
     "output_type": "execute_result"
    }
   ],
   "source": [
    "df=pd.read_csv('predictive_maintenance.csv')\n",
    "df.head()"
   ]
  },
  {
   "cell_type": "markdown",
   "id": "1f42f65c",
   "metadata": {},
   "source": [
    "## Identifying types of columns"
   ]
  },
  {
   "cell_type": "code",
   "execution_count": 3,
   "id": "c8d0cdbe",
   "metadata": {
    "scrolled": true
   },
   "outputs": [
    {
     "name": "stdout",
     "output_type": "stream",
     "text": [
      "<class 'pandas.core.frame.DataFrame'>\n",
      "RangeIndex: 10000 entries, 0 to 9999\n",
      "Data columns (total 10 columns):\n",
      " #   Column                   Non-Null Count  Dtype  \n",
      "---  ------                   --------------  -----  \n",
      " 0   UDI                      10000 non-null  int64  \n",
      " 1   Product ID               10000 non-null  object \n",
      " 2   Type                     10000 non-null  object \n",
      " 3   Air temperature [K]      10000 non-null  float64\n",
      " 4   Process temperature [K]  10000 non-null  float64\n",
      " 5   Rotational speed [rpm]   10000 non-null  int64  \n",
      " 6   Torque [Nm]              10000 non-null  float64\n",
      " 7   Tool wear [min]          10000 non-null  int64  \n",
      " 8   Target                   10000 non-null  int64  \n",
      " 9   Failure Type             10000 non-null  object \n",
      "dtypes: float64(3), int64(4), object(3)\n",
      "memory usage: 781.4+ KB\n"
     ]
    }
   ],
   "source": [
    "df.info()"
   ]
  },
  {
   "cell_type": "markdown",
   "id": "62d2ec16",
   "metadata": {},
   "source": [
    "## Summary and statistics for the data :"
   ]
  },
  {
   "cell_type": "code",
   "execution_count": 4,
   "id": "988bb352",
   "metadata": {
    "scrolled": true
   },
   "outputs": [
    {
     "data": {
      "text/html": [
       "<div>\n",
       "<style scoped>\n",
       "    .dataframe tbody tr th:only-of-type {\n",
       "        vertical-align: middle;\n",
       "    }\n",
       "\n",
       "    .dataframe tbody tr th {\n",
       "        vertical-align: top;\n",
       "    }\n",
       "\n",
       "    .dataframe thead th {\n",
       "        text-align: right;\n",
       "    }\n",
       "</style>\n",
       "<table border=\"1\" class=\"dataframe\">\n",
       "  <thead>\n",
       "    <tr style=\"text-align: right;\">\n",
       "      <th></th>\n",
       "      <th>UDI</th>\n",
       "      <th>Air temperature [K]</th>\n",
       "      <th>Process temperature [K]</th>\n",
       "      <th>Rotational speed [rpm]</th>\n",
       "      <th>Torque [Nm]</th>\n",
       "      <th>Tool wear [min]</th>\n",
       "      <th>Target</th>\n",
       "    </tr>\n",
       "  </thead>\n",
       "  <tbody>\n",
       "    <tr>\n",
       "      <th>count</th>\n",
       "      <td>10000.00000</td>\n",
       "      <td>10000.000000</td>\n",
       "      <td>10000.000000</td>\n",
       "      <td>10000.000000</td>\n",
       "      <td>10000.000000</td>\n",
       "      <td>10000.000000</td>\n",
       "      <td>10000.000000</td>\n",
       "    </tr>\n",
       "    <tr>\n",
       "      <th>mean</th>\n",
       "      <td>5000.50000</td>\n",
       "      <td>300.004930</td>\n",
       "      <td>310.005560</td>\n",
       "      <td>1538.776100</td>\n",
       "      <td>39.986910</td>\n",
       "      <td>107.951000</td>\n",
       "      <td>0.033900</td>\n",
       "    </tr>\n",
       "    <tr>\n",
       "      <th>std</th>\n",
       "      <td>2886.89568</td>\n",
       "      <td>2.000259</td>\n",
       "      <td>1.483734</td>\n",
       "      <td>179.284096</td>\n",
       "      <td>9.968934</td>\n",
       "      <td>63.654147</td>\n",
       "      <td>0.180981</td>\n",
       "    </tr>\n",
       "    <tr>\n",
       "      <th>min</th>\n",
       "      <td>1.00000</td>\n",
       "      <td>295.300000</td>\n",
       "      <td>305.700000</td>\n",
       "      <td>1168.000000</td>\n",
       "      <td>3.800000</td>\n",
       "      <td>0.000000</td>\n",
       "      <td>0.000000</td>\n",
       "    </tr>\n",
       "    <tr>\n",
       "      <th>25%</th>\n",
       "      <td>2500.75000</td>\n",
       "      <td>298.300000</td>\n",
       "      <td>308.800000</td>\n",
       "      <td>1423.000000</td>\n",
       "      <td>33.200000</td>\n",
       "      <td>53.000000</td>\n",
       "      <td>0.000000</td>\n",
       "    </tr>\n",
       "    <tr>\n",
       "      <th>50%</th>\n",
       "      <td>5000.50000</td>\n",
       "      <td>300.100000</td>\n",
       "      <td>310.100000</td>\n",
       "      <td>1503.000000</td>\n",
       "      <td>40.100000</td>\n",
       "      <td>108.000000</td>\n",
       "      <td>0.000000</td>\n",
       "    </tr>\n",
       "    <tr>\n",
       "      <th>75%</th>\n",
       "      <td>7500.25000</td>\n",
       "      <td>301.500000</td>\n",
       "      <td>311.100000</td>\n",
       "      <td>1612.000000</td>\n",
       "      <td>46.800000</td>\n",
       "      <td>162.000000</td>\n",
       "      <td>0.000000</td>\n",
       "    </tr>\n",
       "    <tr>\n",
       "      <th>max</th>\n",
       "      <td>10000.00000</td>\n",
       "      <td>304.500000</td>\n",
       "      <td>313.800000</td>\n",
       "      <td>2886.000000</td>\n",
       "      <td>76.600000</td>\n",
       "      <td>253.000000</td>\n",
       "      <td>1.000000</td>\n",
       "    </tr>\n",
       "  </tbody>\n",
       "</table>\n",
       "</div>"
      ],
      "text/plain": [
       "               UDI  Air temperature [K]  Process temperature [K]  \\\n",
       "count  10000.00000         10000.000000             10000.000000   \n",
       "mean    5000.50000           300.004930               310.005560   \n",
       "std     2886.89568             2.000259                 1.483734   \n",
       "min        1.00000           295.300000               305.700000   \n",
       "25%     2500.75000           298.300000               308.800000   \n",
       "50%     5000.50000           300.100000               310.100000   \n",
       "75%     7500.25000           301.500000               311.100000   \n",
       "max    10000.00000           304.500000               313.800000   \n",
       "\n",
       "       Rotational speed [rpm]   Torque [Nm]  Tool wear [min]        Target  \n",
       "count            10000.000000  10000.000000     10000.000000  10000.000000  \n",
       "mean              1538.776100     39.986910       107.951000      0.033900  \n",
       "std                179.284096      9.968934        63.654147      0.180981  \n",
       "min               1168.000000      3.800000         0.000000      0.000000  \n",
       "25%               1423.000000     33.200000        53.000000      0.000000  \n",
       "50%               1503.000000     40.100000       108.000000      0.000000  \n",
       "75%               1612.000000     46.800000       162.000000      0.000000  \n",
       "max               2886.000000     76.600000       253.000000      1.000000  "
      ]
     },
     "execution_count": 4,
     "metadata": {},
     "output_type": "execute_result"
    }
   ],
   "source": [
    "df.describe()"
   ]
  },
  {
   "cell_type": "code",
   "execution_count": 5,
   "id": "b577b616",
   "metadata": {},
   "outputs": [
    {
     "data": {
      "text/plain": [
       "array(['No Failure', 'Power Failure', 'Tool Wear Failure',\n",
       "       'Overstrain Failure', 'Random Failures',\n",
       "       'Heat Dissipation Failure'], dtype=object)"
      ]
     },
     "execution_count": 5,
     "metadata": {},
     "output_type": "execute_result"
    }
   ],
   "source": [
    "df.iloc[:,-1].unique()"
   ]
  },
  {
   "cell_type": "markdown",
   "id": "75a62ba0",
   "metadata": {},
   "source": [
    "## Removing columns UDI and Product ID :"
   ]
  },
  {
   "cell_type": "code",
   "execution_count": 6,
   "id": "bd9a694f",
   "metadata": {},
   "outputs": [
    {
     "data": {
      "text/html": [
       "<div>\n",
       "<style scoped>\n",
       "    .dataframe tbody tr th:only-of-type {\n",
       "        vertical-align: middle;\n",
       "    }\n",
       "\n",
       "    .dataframe tbody tr th {\n",
       "        vertical-align: top;\n",
       "    }\n",
       "\n",
       "    .dataframe thead th {\n",
       "        text-align: right;\n",
       "    }\n",
       "</style>\n",
       "<table border=\"1\" class=\"dataframe\">\n",
       "  <thead>\n",
       "    <tr style=\"text-align: right;\">\n",
       "      <th></th>\n",
       "      <th>Type</th>\n",
       "      <th>Air temperature [K]</th>\n",
       "      <th>Process temperature [K]</th>\n",
       "      <th>Rotational speed [rpm]</th>\n",
       "      <th>Torque [Nm]</th>\n",
       "      <th>Tool wear [min]</th>\n",
       "      <th>Target</th>\n",
       "      <th>Failure Type</th>\n",
       "    </tr>\n",
       "  </thead>\n",
       "  <tbody>\n",
       "    <tr>\n",
       "      <th>0</th>\n",
       "      <td>M</td>\n",
       "      <td>298.1</td>\n",
       "      <td>308.6</td>\n",
       "      <td>1551</td>\n",
       "      <td>42.8</td>\n",
       "      <td>0</td>\n",
       "      <td>0</td>\n",
       "      <td>No Failure</td>\n",
       "    </tr>\n",
       "    <tr>\n",
       "      <th>1</th>\n",
       "      <td>L</td>\n",
       "      <td>298.2</td>\n",
       "      <td>308.7</td>\n",
       "      <td>1408</td>\n",
       "      <td>46.3</td>\n",
       "      <td>3</td>\n",
       "      <td>0</td>\n",
       "      <td>No Failure</td>\n",
       "    </tr>\n",
       "    <tr>\n",
       "      <th>2</th>\n",
       "      <td>L</td>\n",
       "      <td>298.1</td>\n",
       "      <td>308.5</td>\n",
       "      <td>1498</td>\n",
       "      <td>49.4</td>\n",
       "      <td>5</td>\n",
       "      <td>0</td>\n",
       "      <td>No Failure</td>\n",
       "    </tr>\n",
       "    <tr>\n",
       "      <th>3</th>\n",
       "      <td>L</td>\n",
       "      <td>298.2</td>\n",
       "      <td>308.6</td>\n",
       "      <td>1433</td>\n",
       "      <td>39.5</td>\n",
       "      <td>7</td>\n",
       "      <td>0</td>\n",
       "      <td>No Failure</td>\n",
       "    </tr>\n",
       "    <tr>\n",
       "      <th>4</th>\n",
       "      <td>L</td>\n",
       "      <td>298.2</td>\n",
       "      <td>308.7</td>\n",
       "      <td>1408</td>\n",
       "      <td>40.0</td>\n",
       "      <td>9</td>\n",
       "      <td>0</td>\n",
       "      <td>No Failure</td>\n",
       "    </tr>\n",
       "  </tbody>\n",
       "</table>\n",
       "</div>"
      ],
      "text/plain": [
       "  Type  Air temperature [K]  Process temperature [K]  Rotational speed [rpm]  \\\n",
       "0    M                298.1                    308.6                    1551   \n",
       "1    L                298.2                    308.7                    1408   \n",
       "2    L                298.1                    308.5                    1498   \n",
       "3    L                298.2                    308.6                    1433   \n",
       "4    L                298.2                    308.7                    1408   \n",
       "\n",
       "   Torque [Nm]  Tool wear [min]  Target Failure Type  \n",
       "0         42.8                0       0   No Failure  \n",
       "1         46.3                3       0   No Failure  \n",
       "2         49.4                5       0   No Failure  \n",
       "3         39.5                7       0   No Failure  \n",
       "4         40.0                9       0   No Failure  "
      ]
     },
     "execution_count": 6,
     "metadata": {},
     "output_type": "execute_result"
    }
   ],
   "source": [
    "df.drop(df.columns[:2],axis=1,inplace=True)\n",
    "df.head()"
   ]
  },
  {
   "cell_type": "markdown",
   "id": "b9296fd8",
   "metadata": {},
   "source": [
    "## Finding total number of M/H/L instances and One Hot Encoding:"
   ]
  },
  {
   "cell_type": "code",
   "execution_count": 7,
   "id": "6c036f43",
   "metadata": {
    "scrolled": false
   },
   "outputs": [
    {
     "data": {
      "text/plain": [
       "L    6000\n",
       "M    2997\n",
       "H    1003\n",
       "Name: Type, dtype: int64"
      ]
     },
     "execution_count": 7,
     "metadata": {},
     "output_type": "execute_result"
    }
   ],
   "source": [
    "df['Type'].value_counts()"
   ]
  },
  {
   "cell_type": "code",
   "execution_count": 8,
   "id": "90b05317",
   "metadata": {},
   "outputs": [
    {
     "data": {
      "text/html": [
       "<div>\n",
       "<style scoped>\n",
       "    .dataframe tbody tr th:only-of-type {\n",
       "        vertical-align: middle;\n",
       "    }\n",
       "\n",
       "    .dataframe tbody tr th {\n",
       "        vertical-align: top;\n",
       "    }\n",
       "\n",
       "    .dataframe thead th {\n",
       "        text-align: right;\n",
       "    }\n",
       "</style>\n",
       "<table border=\"1\" class=\"dataframe\">\n",
       "  <thead>\n",
       "    <tr style=\"text-align: right;\">\n",
       "      <th></th>\n",
       "      <th>Type_H</th>\n",
       "      <th>Type_L</th>\n",
       "      <th>Type_M</th>\n",
       "      <th>Air temperature [K]</th>\n",
       "      <th>Process temperature [K]</th>\n",
       "      <th>Rotational speed [rpm]</th>\n",
       "      <th>Torque [Nm]</th>\n",
       "      <th>Tool wear [min]</th>\n",
       "      <th>Target</th>\n",
       "      <th>Failure Type</th>\n",
       "    </tr>\n",
       "  </thead>\n",
       "  <tbody>\n",
       "    <tr>\n",
       "      <th>0</th>\n",
       "      <td>0</td>\n",
       "      <td>0</td>\n",
       "      <td>1</td>\n",
       "      <td>298.1</td>\n",
       "      <td>308.6</td>\n",
       "      <td>1551</td>\n",
       "      <td>42.8</td>\n",
       "      <td>0</td>\n",
       "      <td>0</td>\n",
       "      <td>No Failure</td>\n",
       "    </tr>\n",
       "    <tr>\n",
       "      <th>1</th>\n",
       "      <td>0</td>\n",
       "      <td>1</td>\n",
       "      <td>0</td>\n",
       "      <td>298.2</td>\n",
       "      <td>308.7</td>\n",
       "      <td>1408</td>\n",
       "      <td>46.3</td>\n",
       "      <td>3</td>\n",
       "      <td>0</td>\n",
       "      <td>No Failure</td>\n",
       "    </tr>\n",
       "    <tr>\n",
       "      <th>2</th>\n",
       "      <td>0</td>\n",
       "      <td>1</td>\n",
       "      <td>0</td>\n",
       "      <td>298.1</td>\n",
       "      <td>308.5</td>\n",
       "      <td>1498</td>\n",
       "      <td>49.4</td>\n",
       "      <td>5</td>\n",
       "      <td>0</td>\n",
       "      <td>No Failure</td>\n",
       "    </tr>\n",
       "    <tr>\n",
       "      <th>3</th>\n",
       "      <td>0</td>\n",
       "      <td>1</td>\n",
       "      <td>0</td>\n",
       "      <td>298.2</td>\n",
       "      <td>308.6</td>\n",
       "      <td>1433</td>\n",
       "      <td>39.5</td>\n",
       "      <td>7</td>\n",
       "      <td>0</td>\n",
       "      <td>No Failure</td>\n",
       "    </tr>\n",
       "    <tr>\n",
       "      <th>4</th>\n",
       "      <td>0</td>\n",
       "      <td>1</td>\n",
       "      <td>0</td>\n",
       "      <td>298.2</td>\n",
       "      <td>308.7</td>\n",
       "      <td>1408</td>\n",
       "      <td>40.0</td>\n",
       "      <td>9</td>\n",
       "      <td>0</td>\n",
       "      <td>No Failure</td>\n",
       "    </tr>\n",
       "  </tbody>\n",
       "</table>\n",
       "</div>"
      ],
      "text/plain": [
       "   Type_H  Type_L  Type_M  Air temperature [K]  Process temperature [K]  \\\n",
       "0       0       0       1                298.1                    308.6   \n",
       "1       0       1       0                298.2                    308.7   \n",
       "2       0       1       0                298.1                    308.5   \n",
       "3       0       1       0                298.2                    308.6   \n",
       "4       0       1       0                298.2                    308.7   \n",
       "\n",
       "   Rotational speed [rpm]  Torque [Nm]  Tool wear [min]  Target Failure Type  \n",
       "0                    1551         42.8                0       0   No Failure  \n",
       "1                    1408         46.3                3       0   No Failure  \n",
       "2                    1498         49.4                5       0   No Failure  \n",
       "3                    1433         39.5                7       0   No Failure  \n",
       "4                    1408         40.0                9       0   No Failure  "
      ]
     },
     "execution_count": 8,
     "metadata": {},
     "output_type": "execute_result"
    }
   ],
   "source": [
    "df = pd.concat([pd.get_dummies(df['Type'], prefix='Type'),df],axis=1)\n",
    "df.drop(['Type'],axis=1,inplace=True)\n",
    "df.head()"
   ]
  },
  {
   "cell_type": "markdown",
   "id": "5c1c2a6a",
   "metadata": {},
   "source": [
    "## Performing Label Encoding of Failure Type : "
   ]
  },
  {
   "cell_type": "code",
   "execution_count": 9,
   "id": "93f32dee",
   "metadata": {},
   "outputs": [
    {
     "data": {
      "text/plain": [
       "['Heat Dissipation Failure',\n",
       " 'No Failure',\n",
       " 'Overstrain Failure',\n",
       " 'Power Failure',\n",
       " 'Random Failures',\n",
       " 'Tool Wear Failure']"
      ]
     },
     "execution_count": 9,
     "metadata": {},
     "output_type": "execute_result"
    }
   ],
   "source": [
    "encode=LabelEncoder()\n",
    "df.loc[:,df.columns[-1]]=encode.fit_transform(df.loc[:,df.columns[-1]])\n",
    "list(encode.inverse_transform([0,1,2,3,4,5]))"
   ]
  },
  {
   "cell_type": "code",
   "execution_count": 10,
   "id": "5281872e",
   "metadata": {},
   "outputs": [
    {
     "data": {
      "text/html": [
       "<div>\n",
       "<style scoped>\n",
       "    .dataframe tbody tr th:only-of-type {\n",
       "        vertical-align: middle;\n",
       "    }\n",
       "\n",
       "    .dataframe tbody tr th {\n",
       "        vertical-align: top;\n",
       "    }\n",
       "\n",
       "    .dataframe thead th {\n",
       "        text-align: right;\n",
       "    }\n",
       "</style>\n",
       "<table border=\"1\" class=\"dataframe\">\n",
       "  <thead>\n",
       "    <tr style=\"text-align: right;\">\n",
       "      <th></th>\n",
       "      <th>Type_H</th>\n",
       "      <th>Type_L</th>\n",
       "      <th>Type_M</th>\n",
       "      <th>Air temperature [K]</th>\n",
       "      <th>Process temperature [K]</th>\n",
       "      <th>Rotational speed [rpm]</th>\n",
       "      <th>Torque [Nm]</th>\n",
       "      <th>Tool wear [min]</th>\n",
       "      <th>Target</th>\n",
       "      <th>Failure Type</th>\n",
       "    </tr>\n",
       "  </thead>\n",
       "  <tbody>\n",
       "    <tr>\n",
       "      <th>count</th>\n",
       "      <td>10000.000000</td>\n",
       "      <td>10000.000000</td>\n",
       "      <td>10000.000000</td>\n",
       "      <td>10000.000000</td>\n",
       "      <td>10000.000000</td>\n",
       "      <td>10000.000000</td>\n",
       "      <td>10000.000000</td>\n",
       "      <td>10000.000000</td>\n",
       "      <td>10000.000000</td>\n",
       "      <td>10000.000000</td>\n",
       "    </tr>\n",
       "    <tr>\n",
       "      <th>mean</th>\n",
       "      <td>0.100300</td>\n",
       "      <td>0.600000</td>\n",
       "      <td>0.299700</td>\n",
       "      <td>300.004930</td>\n",
       "      <td>310.005560</td>\n",
       "      <td>1538.776100</td>\n",
       "      <td>39.986910</td>\n",
       "      <td>107.951000</td>\n",
       "      <td>0.033900</td>\n",
       "      <td>1.039000</td>\n",
       "    </tr>\n",
       "    <tr>\n",
       "      <th>std</th>\n",
       "      <td>0.300415</td>\n",
       "      <td>0.489922</td>\n",
       "      <td>0.458149</td>\n",
       "      <td>2.000259</td>\n",
       "      <td>1.483734</td>\n",
       "      <td>179.284096</td>\n",
       "      <td>9.968934</td>\n",
       "      <td>63.654147</td>\n",
       "      <td>0.180981</td>\n",
       "      <td>0.379069</td>\n",
       "    </tr>\n",
       "    <tr>\n",
       "      <th>min</th>\n",
       "      <td>0.000000</td>\n",
       "      <td>0.000000</td>\n",
       "      <td>0.000000</td>\n",
       "      <td>295.300000</td>\n",
       "      <td>305.700000</td>\n",
       "      <td>1168.000000</td>\n",
       "      <td>3.800000</td>\n",
       "      <td>0.000000</td>\n",
       "      <td>0.000000</td>\n",
       "      <td>0.000000</td>\n",
       "    </tr>\n",
       "    <tr>\n",
       "      <th>25%</th>\n",
       "      <td>0.000000</td>\n",
       "      <td>0.000000</td>\n",
       "      <td>0.000000</td>\n",
       "      <td>298.300000</td>\n",
       "      <td>308.800000</td>\n",
       "      <td>1423.000000</td>\n",
       "      <td>33.200000</td>\n",
       "      <td>53.000000</td>\n",
       "      <td>0.000000</td>\n",
       "      <td>1.000000</td>\n",
       "    </tr>\n",
       "    <tr>\n",
       "      <th>50%</th>\n",
       "      <td>0.000000</td>\n",
       "      <td>1.000000</td>\n",
       "      <td>0.000000</td>\n",
       "      <td>300.100000</td>\n",
       "      <td>310.100000</td>\n",
       "      <td>1503.000000</td>\n",
       "      <td>40.100000</td>\n",
       "      <td>108.000000</td>\n",
       "      <td>0.000000</td>\n",
       "      <td>1.000000</td>\n",
       "    </tr>\n",
       "    <tr>\n",
       "      <th>75%</th>\n",
       "      <td>0.000000</td>\n",
       "      <td>1.000000</td>\n",
       "      <td>1.000000</td>\n",
       "      <td>301.500000</td>\n",
       "      <td>311.100000</td>\n",
       "      <td>1612.000000</td>\n",
       "      <td>46.800000</td>\n",
       "      <td>162.000000</td>\n",
       "      <td>0.000000</td>\n",
       "      <td>1.000000</td>\n",
       "    </tr>\n",
       "    <tr>\n",
       "      <th>max</th>\n",
       "      <td>1.000000</td>\n",
       "      <td>1.000000</td>\n",
       "      <td>1.000000</td>\n",
       "      <td>304.500000</td>\n",
       "      <td>313.800000</td>\n",
       "      <td>2886.000000</td>\n",
       "      <td>76.600000</td>\n",
       "      <td>253.000000</td>\n",
       "      <td>1.000000</td>\n",
       "      <td>5.000000</td>\n",
       "    </tr>\n",
       "  </tbody>\n",
       "</table>\n",
       "</div>"
      ],
      "text/plain": [
       "             Type_H        Type_L        Type_M  Air temperature [K]  \\\n",
       "count  10000.000000  10000.000000  10000.000000         10000.000000   \n",
       "mean       0.100300      0.600000      0.299700           300.004930   \n",
       "std        0.300415      0.489922      0.458149             2.000259   \n",
       "min        0.000000      0.000000      0.000000           295.300000   \n",
       "25%        0.000000      0.000000      0.000000           298.300000   \n",
       "50%        0.000000      1.000000      0.000000           300.100000   \n",
       "75%        0.000000      1.000000      1.000000           301.500000   \n",
       "max        1.000000      1.000000      1.000000           304.500000   \n",
       "\n",
       "       Process temperature [K]  Rotational speed [rpm]   Torque [Nm]  \\\n",
       "count             10000.000000            10000.000000  10000.000000   \n",
       "mean                310.005560             1538.776100     39.986910   \n",
       "std                   1.483734              179.284096      9.968934   \n",
       "min                 305.700000             1168.000000      3.800000   \n",
       "25%                 308.800000             1423.000000     33.200000   \n",
       "50%                 310.100000             1503.000000     40.100000   \n",
       "75%                 311.100000             1612.000000     46.800000   \n",
       "max                 313.800000             2886.000000     76.600000   \n",
       "\n",
       "       Tool wear [min]        Target  Failure Type  \n",
       "count     10000.000000  10000.000000  10000.000000  \n",
       "mean        107.951000      0.033900      1.039000  \n",
       "std          63.654147      0.180981      0.379069  \n",
       "min           0.000000      0.000000      0.000000  \n",
       "25%          53.000000      0.000000      1.000000  \n",
       "50%         108.000000      0.000000      1.000000  \n",
       "75%         162.000000      0.000000      1.000000  \n",
       "max         253.000000      1.000000      5.000000  "
      ]
     },
     "execution_count": 10,
     "metadata": {},
     "output_type": "execute_result"
    }
   ],
   "source": [
    "df.describe()"
   ]
  },
  {
   "cell_type": "markdown",
   "id": "4d5fa2c3",
   "metadata": {},
   "source": [
    "## This dataset is inherently imbalanced as seen below :\n",
    "### Failure occurs in only 348 instances which is less than 4% of the dataset"
   ]
  },
  {
   "cell_type": "code",
   "execution_count": 11,
   "id": "ed8fae68",
   "metadata": {},
   "outputs": [
    {
     "data": {
      "text/plain": [
       "1    9652\n",
       "0     112\n",
       "3      95\n",
       "2      78\n",
       "5      45\n",
       "4      18\n",
       "Name: Failure Type, dtype: int64"
      ]
     },
     "execution_count": 11,
     "metadata": {},
     "output_type": "execute_result"
    }
   ],
   "source": [
    "df['Failure Type'].value_counts()"
   ]
  },
  {
   "cell_type": "markdown",
   "id": "fb3e63c5",
   "metadata": {},
   "source": [
    "#### Here we have removed the target column because we are focusing on predicting the type of failure."
   ]
  },
  {
   "cell_type": "code",
   "execution_count": 12,
   "id": "739060bd",
   "metadata": {},
   "outputs": [],
   "source": [
    "df.drop(['Target'],axis=1,inplace=True)"
   ]
  },
  {
   "cell_type": "code",
   "execution_count": 13,
   "id": "d61683b1",
   "metadata": {},
   "outputs": [
    {
     "data": {
      "text/html": [
       "<div>\n",
       "<style scoped>\n",
       "    .dataframe tbody tr th:only-of-type {\n",
       "        vertical-align: middle;\n",
       "    }\n",
       "\n",
       "    .dataframe tbody tr th {\n",
       "        vertical-align: top;\n",
       "    }\n",
       "\n",
       "    .dataframe thead th {\n",
       "        text-align: right;\n",
       "    }\n",
       "</style>\n",
       "<table border=\"1\" class=\"dataframe\">\n",
       "  <thead>\n",
       "    <tr style=\"text-align: right;\">\n",
       "      <th></th>\n",
       "      <th>Type_H</th>\n",
       "      <th>Type_L</th>\n",
       "      <th>Type_M</th>\n",
       "      <th>Air temperature [K]</th>\n",
       "      <th>Process temperature [K]</th>\n",
       "      <th>Rotational speed [rpm]</th>\n",
       "      <th>Torque [Nm]</th>\n",
       "      <th>Tool wear [min]</th>\n",
       "      <th>Failure Type</th>\n",
       "    </tr>\n",
       "  </thead>\n",
       "  <tbody>\n",
       "    <tr>\n",
       "      <th>count</th>\n",
       "      <td>10000.000000</td>\n",
       "      <td>10000.000000</td>\n",
       "      <td>10000.000000</td>\n",
       "      <td>10000.000000</td>\n",
       "      <td>10000.000000</td>\n",
       "      <td>10000.000000</td>\n",
       "      <td>10000.000000</td>\n",
       "      <td>10000.000000</td>\n",
       "      <td>10000.000000</td>\n",
       "    </tr>\n",
       "    <tr>\n",
       "      <th>mean</th>\n",
       "      <td>0.100300</td>\n",
       "      <td>0.600000</td>\n",
       "      <td>0.299700</td>\n",
       "      <td>300.004930</td>\n",
       "      <td>310.005560</td>\n",
       "      <td>1538.776100</td>\n",
       "      <td>39.986910</td>\n",
       "      <td>107.951000</td>\n",
       "      <td>1.039000</td>\n",
       "    </tr>\n",
       "    <tr>\n",
       "      <th>std</th>\n",
       "      <td>0.300415</td>\n",
       "      <td>0.489922</td>\n",
       "      <td>0.458149</td>\n",
       "      <td>2.000259</td>\n",
       "      <td>1.483734</td>\n",
       "      <td>179.284096</td>\n",
       "      <td>9.968934</td>\n",
       "      <td>63.654147</td>\n",
       "      <td>0.379069</td>\n",
       "    </tr>\n",
       "    <tr>\n",
       "      <th>min</th>\n",
       "      <td>0.000000</td>\n",
       "      <td>0.000000</td>\n",
       "      <td>0.000000</td>\n",
       "      <td>295.300000</td>\n",
       "      <td>305.700000</td>\n",
       "      <td>1168.000000</td>\n",
       "      <td>3.800000</td>\n",
       "      <td>0.000000</td>\n",
       "      <td>0.000000</td>\n",
       "    </tr>\n",
       "    <tr>\n",
       "      <th>25%</th>\n",
       "      <td>0.000000</td>\n",
       "      <td>0.000000</td>\n",
       "      <td>0.000000</td>\n",
       "      <td>298.300000</td>\n",
       "      <td>308.800000</td>\n",
       "      <td>1423.000000</td>\n",
       "      <td>33.200000</td>\n",
       "      <td>53.000000</td>\n",
       "      <td>1.000000</td>\n",
       "    </tr>\n",
       "    <tr>\n",
       "      <th>50%</th>\n",
       "      <td>0.000000</td>\n",
       "      <td>1.000000</td>\n",
       "      <td>0.000000</td>\n",
       "      <td>300.100000</td>\n",
       "      <td>310.100000</td>\n",
       "      <td>1503.000000</td>\n",
       "      <td>40.100000</td>\n",
       "      <td>108.000000</td>\n",
       "      <td>1.000000</td>\n",
       "    </tr>\n",
       "    <tr>\n",
       "      <th>75%</th>\n",
       "      <td>0.000000</td>\n",
       "      <td>1.000000</td>\n",
       "      <td>1.000000</td>\n",
       "      <td>301.500000</td>\n",
       "      <td>311.100000</td>\n",
       "      <td>1612.000000</td>\n",
       "      <td>46.800000</td>\n",
       "      <td>162.000000</td>\n",
       "      <td>1.000000</td>\n",
       "    </tr>\n",
       "    <tr>\n",
       "      <th>max</th>\n",
       "      <td>1.000000</td>\n",
       "      <td>1.000000</td>\n",
       "      <td>1.000000</td>\n",
       "      <td>304.500000</td>\n",
       "      <td>313.800000</td>\n",
       "      <td>2886.000000</td>\n",
       "      <td>76.600000</td>\n",
       "      <td>253.000000</td>\n",
       "      <td>5.000000</td>\n",
       "    </tr>\n",
       "  </tbody>\n",
       "</table>\n",
       "</div>"
      ],
      "text/plain": [
       "             Type_H        Type_L        Type_M  Air temperature [K]  \\\n",
       "count  10000.000000  10000.000000  10000.000000         10000.000000   \n",
       "mean       0.100300      0.600000      0.299700           300.004930   \n",
       "std        0.300415      0.489922      0.458149             2.000259   \n",
       "min        0.000000      0.000000      0.000000           295.300000   \n",
       "25%        0.000000      0.000000      0.000000           298.300000   \n",
       "50%        0.000000      1.000000      0.000000           300.100000   \n",
       "75%        0.000000      1.000000      1.000000           301.500000   \n",
       "max        1.000000      1.000000      1.000000           304.500000   \n",
       "\n",
       "       Process temperature [K]  Rotational speed [rpm]   Torque [Nm]  \\\n",
       "count             10000.000000            10000.000000  10000.000000   \n",
       "mean                310.005560             1538.776100     39.986910   \n",
       "std                   1.483734              179.284096      9.968934   \n",
       "min                 305.700000             1168.000000      3.800000   \n",
       "25%                 308.800000             1423.000000     33.200000   \n",
       "50%                 310.100000             1503.000000     40.100000   \n",
       "75%                 311.100000             1612.000000     46.800000   \n",
       "max                 313.800000             2886.000000     76.600000   \n",
       "\n",
       "       Tool wear [min]  Failure Type  \n",
       "count     10000.000000  10000.000000  \n",
       "mean        107.951000      1.039000  \n",
       "std          63.654147      0.379069  \n",
       "min           0.000000      0.000000  \n",
       "25%          53.000000      1.000000  \n",
       "50%         108.000000      1.000000  \n",
       "75%         162.000000      1.000000  \n",
       "max         253.000000      5.000000  "
      ]
     },
     "execution_count": 13,
     "metadata": {},
     "output_type": "execute_result"
    }
   ],
   "source": [
    "df.describe()"
   ]
  },
  {
   "cell_type": "markdown",
   "id": "ad45ddbe",
   "metadata": {},
   "source": [
    "### Separating Failure Type and Features to be used for predictions"
   ]
  },
  {
   "cell_type": "code",
   "execution_count": 14,
   "id": "9ab2f306",
   "metadata": {},
   "outputs": [
    {
     "data": {
      "text/plain": [
       "['Type_H',\n",
       " 'Type_L',\n",
       " 'Type_M',\n",
       " 'Air temperature [K]',\n",
       " 'Process temperature [K]',\n",
       " 'Rotational speed [rpm]',\n",
       " 'Torque [Nm]',\n",
       " 'Tool wear [min]',\n",
       " 'Failure Type']"
      ]
     },
     "execution_count": 14,
     "metadata": {},
     "output_type": "execute_result"
    }
   ],
   "source": [
    "df.columns=df.columns.astype(\"str\")\n",
    "col_name=df.columns.to_list()\n",
    "col_name"
   ]
  },
  {
   "cell_type": "code",
   "execution_count": 15,
   "id": "ea3639d9",
   "metadata": {},
   "outputs": [
    {
     "data": {
      "text/plain": [
       "'Failure Type'"
      ]
     },
     "execution_count": 15,
     "metadata": {},
     "output_type": "execute_result"
    }
   ],
   "source": [
    "target_col = col_name.pop(-1)\n",
    "target_col"
   ]
  },
  {
   "cell_type": "markdown",
   "id": "d5174620",
   "metadata": {},
   "source": [
    "#### The columns listed below will be used as features :"
   ]
  },
  {
   "cell_type": "code",
   "execution_count": 16,
   "id": "82cb8948",
   "metadata": {},
   "outputs": [
    {
     "data": {
      "text/plain": [
       "['Type_H',\n",
       " 'Type_L',\n",
       " 'Type_M',\n",
       " 'Air temperature [K]',\n",
       " 'Process temperature [K]',\n",
       " 'Rotational speed [rpm]',\n",
       " 'Torque [Nm]',\n",
       " 'Tool wear [min]']"
      ]
     },
     "execution_count": 16,
     "metadata": {},
     "output_type": "execute_result"
    }
   ],
   "source": [
    "feature_col=col_name\n",
    "feature_col"
   ]
  },
  {
   "cell_type": "markdown",
   "id": "e45d659b",
   "metadata": {},
   "source": [
    "#### These are the failure types we are going to predict"
   ]
  },
  {
   "cell_type": "code",
   "execution_count": 17,
   "id": "56308254",
   "metadata": {},
   "outputs": [
    {
     "data": {
      "text/plain": [
       "array([1, 1, 1, ..., 1, 1, 1])"
      ]
     },
     "execution_count": 17,
     "metadata": {},
     "output_type": "execute_result"
    }
   ],
   "source": [
    "y=df[target_col].values\n",
    "y"
   ]
  },
  {
   "cell_type": "markdown",
   "id": "20e23e4d",
   "metadata": {},
   "source": [
    "#### Removing failure type column from the data frame"
   ]
  },
  {
   "cell_type": "code",
   "execution_count": 18,
   "id": "1468d2d4",
   "metadata": {},
   "outputs": [
    {
     "data": {
      "text/html": [
       "<div>\n",
       "<style scoped>\n",
       "    .dataframe tbody tr th:only-of-type {\n",
       "        vertical-align: middle;\n",
       "    }\n",
       "\n",
       "    .dataframe tbody tr th {\n",
       "        vertical-align: top;\n",
       "    }\n",
       "\n",
       "    .dataframe thead th {\n",
       "        text-align: right;\n",
       "    }\n",
       "</style>\n",
       "<table border=\"1\" class=\"dataframe\">\n",
       "  <thead>\n",
       "    <tr style=\"text-align: right;\">\n",
       "      <th></th>\n",
       "      <th>Type_H</th>\n",
       "      <th>Type_L</th>\n",
       "      <th>Type_M</th>\n",
       "      <th>Air temperature [K]</th>\n",
       "      <th>Process temperature [K]</th>\n",
       "      <th>Rotational speed [rpm]</th>\n",
       "      <th>Torque [Nm]</th>\n",
       "      <th>Tool wear [min]</th>\n",
       "    </tr>\n",
       "  </thead>\n",
       "  <tbody>\n",
       "    <tr>\n",
       "      <th>count</th>\n",
       "      <td>10000.000000</td>\n",
       "      <td>10000.000000</td>\n",
       "      <td>10000.000000</td>\n",
       "      <td>10000.000000</td>\n",
       "      <td>10000.000000</td>\n",
       "      <td>10000.000000</td>\n",
       "      <td>10000.000000</td>\n",
       "      <td>10000.000000</td>\n",
       "    </tr>\n",
       "    <tr>\n",
       "      <th>mean</th>\n",
       "      <td>0.100300</td>\n",
       "      <td>0.600000</td>\n",
       "      <td>0.299700</td>\n",
       "      <td>300.004930</td>\n",
       "      <td>310.005560</td>\n",
       "      <td>1538.776100</td>\n",
       "      <td>39.986910</td>\n",
       "      <td>107.951000</td>\n",
       "    </tr>\n",
       "    <tr>\n",
       "      <th>std</th>\n",
       "      <td>0.300415</td>\n",
       "      <td>0.489922</td>\n",
       "      <td>0.458149</td>\n",
       "      <td>2.000259</td>\n",
       "      <td>1.483734</td>\n",
       "      <td>179.284096</td>\n",
       "      <td>9.968934</td>\n",
       "      <td>63.654147</td>\n",
       "    </tr>\n",
       "    <tr>\n",
       "      <th>min</th>\n",
       "      <td>0.000000</td>\n",
       "      <td>0.000000</td>\n",
       "      <td>0.000000</td>\n",
       "      <td>295.300000</td>\n",
       "      <td>305.700000</td>\n",
       "      <td>1168.000000</td>\n",
       "      <td>3.800000</td>\n",
       "      <td>0.000000</td>\n",
       "    </tr>\n",
       "    <tr>\n",
       "      <th>25%</th>\n",
       "      <td>0.000000</td>\n",
       "      <td>0.000000</td>\n",
       "      <td>0.000000</td>\n",
       "      <td>298.300000</td>\n",
       "      <td>308.800000</td>\n",
       "      <td>1423.000000</td>\n",
       "      <td>33.200000</td>\n",
       "      <td>53.000000</td>\n",
       "    </tr>\n",
       "    <tr>\n",
       "      <th>50%</th>\n",
       "      <td>0.000000</td>\n",
       "      <td>1.000000</td>\n",
       "      <td>0.000000</td>\n",
       "      <td>300.100000</td>\n",
       "      <td>310.100000</td>\n",
       "      <td>1503.000000</td>\n",
       "      <td>40.100000</td>\n",
       "      <td>108.000000</td>\n",
       "    </tr>\n",
       "    <tr>\n",
       "      <th>75%</th>\n",
       "      <td>0.000000</td>\n",
       "      <td>1.000000</td>\n",
       "      <td>1.000000</td>\n",
       "      <td>301.500000</td>\n",
       "      <td>311.100000</td>\n",
       "      <td>1612.000000</td>\n",
       "      <td>46.800000</td>\n",
       "      <td>162.000000</td>\n",
       "    </tr>\n",
       "    <tr>\n",
       "      <th>max</th>\n",
       "      <td>1.000000</td>\n",
       "      <td>1.000000</td>\n",
       "      <td>1.000000</td>\n",
       "      <td>304.500000</td>\n",
       "      <td>313.800000</td>\n",
       "      <td>2886.000000</td>\n",
       "      <td>76.600000</td>\n",
       "      <td>253.000000</td>\n",
       "    </tr>\n",
       "  </tbody>\n",
       "</table>\n",
       "</div>"
      ],
      "text/plain": [
       "             Type_H        Type_L        Type_M  Air temperature [K]  \\\n",
       "count  10000.000000  10000.000000  10000.000000         10000.000000   \n",
       "mean       0.100300      0.600000      0.299700           300.004930   \n",
       "std        0.300415      0.489922      0.458149             2.000259   \n",
       "min        0.000000      0.000000      0.000000           295.300000   \n",
       "25%        0.000000      0.000000      0.000000           298.300000   \n",
       "50%        0.000000      1.000000      0.000000           300.100000   \n",
       "75%        0.000000      1.000000      1.000000           301.500000   \n",
       "max        1.000000      1.000000      1.000000           304.500000   \n",
       "\n",
       "       Process temperature [K]  Rotational speed [rpm]   Torque [Nm]  \\\n",
       "count             10000.000000            10000.000000  10000.000000   \n",
       "mean                310.005560             1538.776100     39.986910   \n",
       "std                   1.483734              179.284096      9.968934   \n",
       "min                 305.700000             1168.000000      3.800000   \n",
       "25%                 308.800000             1423.000000     33.200000   \n",
       "50%                 310.100000             1503.000000     40.100000   \n",
       "75%                 311.100000             1612.000000     46.800000   \n",
       "max                 313.800000             2886.000000     76.600000   \n",
       "\n",
       "       Tool wear [min]  \n",
       "count     10000.000000  \n",
       "mean        107.951000  \n",
       "std          63.654147  \n",
       "min           0.000000  \n",
       "25%          53.000000  \n",
       "50%         108.000000  \n",
       "75%         162.000000  \n",
       "max         253.000000  "
      ]
     },
     "execution_count": 18,
     "metadata": {},
     "output_type": "execute_result"
    }
   ],
   "source": [
    "df_train=df.drop(df.columns[-1],axis=1)\n",
    "df_train.describe()"
   ]
  },
  {
   "cell_type": "markdown",
   "id": "13f8c40c",
   "metadata": {},
   "source": [
    "## As our dataset is inherently imbalanced we need to do upsamping\n",
    "### We have used SMOTE for upsampling minority classes\n",
    "### SMOTE stands for Synthetic Minority Oversampling Technique"
   ]
  },
  {
   "cell_type": "code",
   "execution_count": 19,
   "id": "42a2f4f1",
   "metadata": {},
   "outputs": [],
   "source": [
    "df_train_val = df_train.values"
   ]
  },
  {
   "cell_type": "code",
   "execution_count": 20,
   "id": "c3770ce9",
   "metadata": {},
   "outputs": [],
   "source": [
    "smk=SMOTETomek(random_state=42)\n",
    "X_res,y_res=smk.fit_resample(df_train_val,y)"
   ]
  },
  {
   "cell_type": "code",
   "execution_count": 21,
   "id": "5b71d1d8",
   "metadata": {},
   "outputs": [
    {
     "name": "stdout",
     "output_type": "stream",
     "text": [
      "Orignal Dataset Shape Counter({1: 9652, 0: 112, 3: 95, 2: 78, 5: 45, 4: 18})\n",
      "Resampled Dataset Shape Counter({2: 9652, 0: 9649, 5: 9647, 4: 9647, 3: 9645, 1: 9632})\n"
     ]
    }
   ],
   "source": [
    "print(f\"Orignal Dataset Shape {Counter(y)}\")\n",
    "print(f\"Resampled Dataset Shape {Counter(y_res)}\")"
   ]
  },
  {
   "cell_type": "code",
   "execution_count": 22,
   "id": "dea8ac48",
   "metadata": {},
   "outputs": [],
   "source": [
    "df_resampled=pd.concat([pd.DataFrame(X_res),pd.DataFrame(y_res)],axis=1)"
   ]
  },
  {
   "cell_type": "code",
   "execution_count": 23,
   "id": "9265cfd9",
   "metadata": {},
   "outputs": [
    {
     "data": {
      "text/html": [
       "<div>\n",
       "<style scoped>\n",
       "    .dataframe tbody tr th:only-of-type {\n",
       "        vertical-align: middle;\n",
       "    }\n",
       "\n",
       "    .dataframe tbody tr th {\n",
       "        vertical-align: top;\n",
       "    }\n",
       "\n",
       "    .dataframe thead th {\n",
       "        text-align: right;\n",
       "    }\n",
       "</style>\n",
       "<table border=\"1\" class=\"dataframe\">\n",
       "  <thead>\n",
       "    <tr style=\"text-align: right;\">\n",
       "      <th></th>\n",
       "      <th>0</th>\n",
       "      <th>1</th>\n",
       "      <th>2</th>\n",
       "      <th>3</th>\n",
       "      <th>4</th>\n",
       "      <th>5</th>\n",
       "      <th>6</th>\n",
       "      <th>7</th>\n",
       "      <th>0</th>\n",
       "    </tr>\n",
       "  </thead>\n",
       "  <tbody>\n",
       "    <tr>\n",
       "      <th>0</th>\n",
       "      <td>0.0</td>\n",
       "      <td>0.0</td>\n",
       "      <td>1.0</td>\n",
       "      <td>298.1</td>\n",
       "      <td>308.6</td>\n",
       "      <td>1551.0</td>\n",
       "      <td>42.8</td>\n",
       "      <td>0.0</td>\n",
       "      <td>1</td>\n",
       "    </tr>\n",
       "    <tr>\n",
       "      <th>1</th>\n",
       "      <td>0.0</td>\n",
       "      <td>1.0</td>\n",
       "      <td>0.0</td>\n",
       "      <td>298.2</td>\n",
       "      <td>308.7</td>\n",
       "      <td>1408.0</td>\n",
       "      <td>46.3</td>\n",
       "      <td>3.0</td>\n",
       "      <td>1</td>\n",
       "    </tr>\n",
       "    <tr>\n",
       "      <th>2</th>\n",
       "      <td>0.0</td>\n",
       "      <td>1.0</td>\n",
       "      <td>0.0</td>\n",
       "      <td>298.1</td>\n",
       "      <td>308.5</td>\n",
       "      <td>1498.0</td>\n",
       "      <td>49.4</td>\n",
       "      <td>5.0</td>\n",
       "      <td>1</td>\n",
       "    </tr>\n",
       "    <tr>\n",
       "      <th>3</th>\n",
       "      <td>0.0</td>\n",
       "      <td>1.0</td>\n",
       "      <td>0.0</td>\n",
       "      <td>298.2</td>\n",
       "      <td>308.6</td>\n",
       "      <td>1433.0</td>\n",
       "      <td>39.5</td>\n",
       "      <td>7.0</td>\n",
       "      <td>1</td>\n",
       "    </tr>\n",
       "    <tr>\n",
       "      <th>4</th>\n",
       "      <td>0.0</td>\n",
       "      <td>1.0</td>\n",
       "      <td>0.0</td>\n",
       "      <td>298.2</td>\n",
       "      <td>308.7</td>\n",
       "      <td>1408.0</td>\n",
       "      <td>40.0</td>\n",
       "      <td>9.0</td>\n",
       "      <td>1</td>\n",
       "    </tr>\n",
       "  </tbody>\n",
       "</table>\n",
       "</div>"
      ],
      "text/plain": [
       "     0    1    2      3      4       5     6    7  0\n",
       "0  0.0  0.0  1.0  298.1  308.6  1551.0  42.8  0.0  1\n",
       "1  0.0  1.0  0.0  298.2  308.7  1408.0  46.3  3.0  1\n",
       "2  0.0  1.0  0.0  298.1  308.5  1498.0  49.4  5.0  1\n",
       "3  0.0  1.0  0.0  298.2  308.6  1433.0  39.5  7.0  1\n",
       "4  0.0  1.0  0.0  298.2  308.7  1408.0  40.0  9.0  1"
      ]
     },
     "execution_count": 23,
     "metadata": {},
     "output_type": "execute_result"
    }
   ],
   "source": [
    "df_resampled.head()"
   ]
  },
  {
   "cell_type": "code",
   "execution_count": 24,
   "id": "821db62e",
   "metadata": {},
   "outputs": [
    {
     "data": {
      "text/html": [
       "<div>\n",
       "<style scoped>\n",
       "    .dataframe tbody tr th:only-of-type {\n",
       "        vertical-align: middle;\n",
       "    }\n",
       "\n",
       "    .dataframe tbody tr th {\n",
       "        vertical-align: top;\n",
       "    }\n",
       "\n",
       "    .dataframe thead th {\n",
       "        text-align: right;\n",
       "    }\n",
       "</style>\n",
       "<table border=\"1\" class=\"dataframe\">\n",
       "  <thead>\n",
       "    <tr style=\"text-align: right;\">\n",
       "      <th></th>\n",
       "      <th>Type_H</th>\n",
       "      <th>Type_L</th>\n",
       "      <th>Type_M</th>\n",
       "      <th>Air temperature [K]</th>\n",
       "      <th>Process temperature [K]</th>\n",
       "      <th>Rotational speed [rpm]</th>\n",
       "      <th>Torque [Nm]</th>\n",
       "      <th>Tool wear [min]</th>\n",
       "      <th>Failure Type</th>\n",
       "    </tr>\n",
       "  </thead>\n",
       "  <tbody>\n",
       "    <tr>\n",
       "      <th>0</th>\n",
       "      <td>0.0</td>\n",
       "      <td>0.0</td>\n",
       "      <td>1.0</td>\n",
       "      <td>298.1</td>\n",
       "      <td>308.6</td>\n",
       "      <td>1551.0</td>\n",
       "      <td>42.8</td>\n",
       "      <td>0.0</td>\n",
       "      <td>1</td>\n",
       "    </tr>\n",
       "    <tr>\n",
       "      <th>1</th>\n",
       "      <td>0.0</td>\n",
       "      <td>1.0</td>\n",
       "      <td>0.0</td>\n",
       "      <td>298.2</td>\n",
       "      <td>308.7</td>\n",
       "      <td>1408.0</td>\n",
       "      <td>46.3</td>\n",
       "      <td>3.0</td>\n",
       "      <td>1</td>\n",
       "    </tr>\n",
       "    <tr>\n",
       "      <th>2</th>\n",
       "      <td>0.0</td>\n",
       "      <td>1.0</td>\n",
       "      <td>0.0</td>\n",
       "      <td>298.1</td>\n",
       "      <td>308.5</td>\n",
       "      <td>1498.0</td>\n",
       "      <td>49.4</td>\n",
       "      <td>5.0</td>\n",
       "      <td>1</td>\n",
       "    </tr>\n",
       "    <tr>\n",
       "      <th>3</th>\n",
       "      <td>0.0</td>\n",
       "      <td>1.0</td>\n",
       "      <td>0.0</td>\n",
       "      <td>298.2</td>\n",
       "      <td>308.6</td>\n",
       "      <td>1433.0</td>\n",
       "      <td>39.5</td>\n",
       "      <td>7.0</td>\n",
       "      <td>1</td>\n",
       "    </tr>\n",
       "    <tr>\n",
       "      <th>4</th>\n",
       "      <td>0.0</td>\n",
       "      <td>1.0</td>\n",
       "      <td>0.0</td>\n",
       "      <td>298.2</td>\n",
       "      <td>308.7</td>\n",
       "      <td>1408.0</td>\n",
       "      <td>40.0</td>\n",
       "      <td>9.0</td>\n",
       "      <td>1</td>\n",
       "    </tr>\n",
       "  </tbody>\n",
       "</table>\n",
       "</div>"
      ],
      "text/plain": [
       "   Type_H  Type_L  Type_M  Air temperature [K]  Process temperature [K]  \\\n",
       "0     0.0     0.0     1.0                298.1                    308.6   \n",
       "1     0.0     1.0     0.0                298.2                    308.7   \n",
       "2     0.0     1.0     0.0                298.1                    308.5   \n",
       "3     0.0     1.0     0.0                298.2                    308.6   \n",
       "4     0.0     1.0     0.0                298.2                    308.7   \n",
       "\n",
       "   Rotational speed [rpm]  Torque [Nm]  Tool wear [min]  Failure Type  \n",
       "0                  1551.0         42.8              0.0             1  \n",
       "1                  1408.0         46.3              3.0             1  \n",
       "2                  1498.0         49.4              5.0             1  \n",
       "3                  1433.0         39.5              7.0             1  \n",
       "4                  1408.0         40.0              9.0             1  "
      ]
     },
     "execution_count": 24,
     "metadata": {},
     "output_type": "execute_result"
    }
   ],
   "source": [
    "col_updated=df_train.columns\n",
    "col_updated=col_updated.to_list()\n",
    "col_updated.append(target_col)\n",
    "df_resampled.columns=col_updated\n",
    "df_resampled.head()"
   ]
  },
  {
   "cell_type": "markdown",
   "id": "77491197",
   "metadata": {},
   "source": [
    "### We have successfully upsampled our data, it has gone from 10,000 to 57,872 data points. "
   ]
  },
  {
   "cell_type": "code",
   "execution_count": 25,
   "id": "8f2948e9",
   "metadata": {},
   "outputs": [
    {
     "data": {
      "text/plain": [
       "((57872, 8), (57872,))"
      ]
     },
     "execution_count": 25,
     "metadata": {},
     "output_type": "execute_result"
    }
   ],
   "source": [
    "X_res.shape,y_res.shape"
   ]
  },
  {
   "cell_type": "markdown",
   "id": "02380e79",
   "metadata": {},
   "source": [
    "# Box and Whisker Plots"
   ]
  },
  {
   "cell_type": "markdown",
   "id": "554bdb58",
   "metadata": {},
   "source": [
    "#### Box and whisker plot for the  attribute \"Air Temperature [K]\"\n",
    "After plotting the box and whisker plot for this attribute we get to know that there are no outliers for this attribute."
   ]
  },
  {
   "cell_type": "code",
   "execution_count": 26,
   "id": "3a1c4545",
   "metadata": {
    "scrolled": false
   },
   "outputs": [
    {
     "data": {
      "image/png": "[encoded data removed]",
      "text/plain": [
       "<Figure size 432x288 with 1 Axes>"
      ]
     },
     "metadata": {
      "needs_background": "light"
     },
     "output_type": "display_data"
    }
   ],
   "source": [
    "ax=sns.boxplot(x='Air temperature [K]',data=df)"
   ]
  },
  {
   "cell_type": "markdown",
   "id": "17fcd137",
   "metadata": {},
   "source": [
    "#### Box and whisker plot for the  attribute \"Process Temperature [K]\"\n",
    "After plotting the box and whisker plot for this attribute we get to know that there are no outliers for this attribute."
   ]
  },
  {
   "cell_type": "code",
   "execution_count": 27,
   "id": "ecf85a69",
   "metadata": {},
   "outputs": [
    {
     "data": {
      "image/png": "[encoded data removed]",
      "text/plain": [
       "<Figure size 432x288 with 1 Axes>"
      ]
     },
     "metadata": {
      "needs_background": "light"
     },
     "output_type": "display_data"
    }
   ],
   "source": [
    "ax=sns.boxplot(x='Process temperature [K]',data=df)"
   ]
  },
  {
   "cell_type": "markdown",
   "id": "ce06088c",
   "metadata": {},
   "source": [
    "#### Box and whisker plot for the  attribute \"Rotation speed [rpm]\"\n",
    "After plotting the box and whisker plot for this attribute we get to know that there are outliers for this attribute so we have used the Data representation design pattern i.e Scaling(clipping) to overcome outliers."
   ]
  },
  {
   "cell_type": "code",
   "execution_count": 28,
   "id": "f84fafce",
   "metadata": {},
   "outputs": [
    {
     "data": {
      "image/png": "[encoded data removed]",
      "text/plain": [
       "<Figure size 432x288 with 1 Axes>"
      ]
     },
     "metadata": {
      "needs_background": "light"
     },
     "output_type": "display_data"
    }
   ],
   "source": [
    "ax=sns.boxplot(x='Rotational speed [rpm]',data=df)"
   ]
  },
  {
   "cell_type": "code",
   "execution_count": 29,
   "id": "6ebcbf1a",
   "metadata": {
    "scrolled": true
   },
   "outputs": [
    {
     "data": {
      "text/plain": [
       "count    10000.000000\n",
       "mean      1538.776100\n",
       "std        179.284096\n",
       "min       1168.000000\n",
       "25%       1423.000000\n",
       "50%       1503.000000\n",
       "75%       1612.000000\n",
       "max       2886.000000\n",
       "Name: Rotational speed [rpm], dtype: float64"
      ]
     },
     "execution_count": 29,
     "metadata": {},
     "output_type": "execute_result"
    }
   ],
   "source": [
    "df['Rotational speed [rpm]'].describe()"
   ]
  },
  {
   "cell_type": "markdown",
   "id": "422f68f8",
   "metadata": {},
   "source": [
    "### Clipping of the attribute values\n",
    "We have clipped the values in the Inter Quartile Range."
   ]
  },
  {
   "cell_type": "code",
   "execution_count": 30,
   "id": "e8b56020",
   "metadata": {
    "scrolled": true
   },
   "outputs": [],
   "source": [
    "df['Rotational speed [rpm]']=df['Rotational speed [rpm]'].clip(lower=1423.00,upper=1800)"
   ]
  },
  {
   "cell_type": "code",
   "execution_count": 31,
   "id": "410fa409",
   "metadata": {
    "scrolled": true
   },
   "outputs": [
    {
     "data": {
      "image/png": "[encoded data removed]",
      "text/plain": [
       "<Figure size 432x288 with 1 Axes>"
      ]
     },
     "metadata": {
      "needs_background": "light"
     },
     "output_type": "display_data"
    }
   ],
   "source": [
    "ax=sns.boxplot(x='Rotational speed [rpm]',data=df)"
   ]
  },
  {
   "cell_type": "markdown",
   "id": "0e83b467",
   "metadata": {},
   "source": [
    "#### Box and whisker plot for the  attribute \"Torque [Nm]\"\n",
    "After plotting the box and whisker plot for this attribute we get to know that there are outliers for this attribute so we have used the Data representation design pattern i.e Scaling(clipping) to overcome outliers."
   ]
  },
  {
   "cell_type": "code",
   "execution_count": 32,
   "id": "14304cfe",
   "metadata": {
    "scrolled": false
   },
   "outputs": [
    {
     "data": {
      "image/png": "[encoded data removed]",
      "text/plain": [
       "<Figure size 432x288 with 1 Axes>"
      ]
     },
     "metadata": {
      "needs_background": "light"
     },
     "output_type": "display_data"
    }
   ],
   "source": [
    "ax=sns.boxplot(x='Torque [Nm]',data=df)"
   ]
  },
  {
   "cell_type": "code",
   "execution_count": 33,
   "id": "d211cd1b",
   "metadata": {
    "scrolled": true
   },
   "outputs": [
    {
     "data": {
      "text/plain": [
       "count    10000.000000\n",
       "mean        39.986910\n",
       "std          9.968934\n",
       "min          3.800000\n",
       "25%         33.200000\n",
       "50%         40.100000\n",
       "75%         46.800000\n",
       "max         76.600000\n",
       "Name: Torque [Nm], dtype: float64"
      ]
     },
     "execution_count": 33,
     "metadata": {},
     "output_type": "execute_result"
    }
   ],
   "source": [
    "df['Torque [Nm]'].describe()"
   ]
  },
  {
   "cell_type": "markdown",
   "id": "8502233c",
   "metadata": {},
   "source": [
    "### Clipping of the attribute values\n",
    "We have clipped the values in the Inter Quartile ."
   ]
  },
  {
   "cell_type": "code",
   "execution_count": 34,
   "id": "85e26239",
   "metadata": {},
   "outputs": [],
   "source": [
    "df['Torque [Nm]']=df['Torque [Nm]'].clip(lower=33.200,upper=46.80)"
   ]
  },
  {
   "cell_type": "code",
   "execution_count": 35,
   "id": "58c01d98",
   "metadata": {},
   "outputs": [
    {
     "data": {
      "image/png": "[encoded data removed]",
      "text/plain": [
       "<Figure size 432x288 with 1 Axes>"
      ]
     },
     "metadata": {
      "needs_background": "light"
     },
     "output_type": "display_data"
    }
   ],
   "source": [
    "ax=sns.boxplot(x='Torque [Nm]',data=df)"
   ]
  },
  {
   "cell_type": "markdown",
   "id": "728b2062",
   "metadata": {},
   "source": [
    "#### Box and whisker plot for the  attribute \"Tool wear [min]\"\n",
    "After plotting the box and whisker plot for this attribute we get to know that there are no outliers for this attribute."
   ]
  },
  {
   "cell_type": "code",
   "execution_count": 36,
   "id": "ffc48b6f",
   "metadata": {},
   "outputs": [
    {
     "data": {
      "image/png": "[encoded data removed]",
      "text/plain": [
       "<Figure size 432x288 with 1 Axes>"
      ]
     },
     "metadata": {
      "needs_background": "light"
     },
     "output_type": "display_data"
    }
   ],
   "source": [
    "ax=sns.boxplot(x='Tool wear [min]',data=df)"
   ]
  },
  {
   "cell_type": "markdown",
   "id": "cce851ef",
   "metadata": {},
   "source": [
    "## Support Vector Machine \n",
    "We have trained our model using SVM so that we can combine the results that we have obtained from a single classifier SVM,\n",
    "and the results that we get after applying the ensemble design pattern.\n",
    "\n",
    "### Robust Scaler\n",
    "This Scaler removes the median and scales the data according to the quantile range (defaults to IQR: Interquartile Range). The IQR is the range between the 1st quartile (25th quantile) and the 3rd quartile (75th quantile).\n",
    "Centering and scaling happen independently on each feature by computing the relevant statistics on the samples in the training set. Median and interquartile range are then stored to be used on later data using the transform method.\n",
    "Standardization of a dataset is a common requirement for many machine learning estimators. Typically this is done by removing the mean and scaling to unit variance. However, outliers can often influence the sample mean / variance in a negative way. In such cases, the median and the interquartile range often give better results.\n",
    "\n",
    "### Cross-fold validation\n",
    "We have performed stratified sampling and cross-fold validation by making 5 splits of the data."
   ]
  },
  {
   "cell_type": "code",
   "execution_count": 39,
   "id": "787b3abe",
   "metadata": {},
   "outputs": [
    {
     "name": "stdout",
     "output_type": "stream",
     "text": [
      "x_train shape is :(46297, 8)\n",
      "X_valid shape is :(11575, 8)\n",
      "The fold is : 0 : \n",
      "              precision    recall  f1-score   support\n",
      "\n",
      "           0       0.99      1.00      0.99      1930\n",
      "           1       0.97      0.85      0.91      1927\n",
      "           2       0.99      1.00      0.99      1931\n",
      "           3       0.99      1.00      0.99      1929\n",
      "           4       0.94      0.96      0.95      1929\n",
      "           5       0.93      1.00      0.96      1929\n",
      "\n",
      "    accuracy                           0.97     11575\n",
      "   macro avg       0.97      0.97      0.97     11575\n",
      "weighted avg       0.97      0.97      0.97     11575\n",
      "\n",
      "x_train shape is :(46297, 8)\n",
      "X_valid shape is :(11575, 8)\n",
      "The fold is : 1 : \n",
      "              precision    recall  f1-score   support\n",
      "\n",
      "           0       0.98      1.00      0.99      1930\n",
      "           1       0.97      0.84      0.90      1927\n",
      "           2       0.99      1.00      0.99      1930\n",
      "           3       0.99      1.00      0.99      1929\n",
      "           4       0.92      0.96      0.94      1930\n",
      "           5       0.94      1.00      0.97      1929\n",
      "\n",
      "    accuracy                           0.96     11575\n",
      "   macro avg       0.97      0.96      0.96     11575\n",
      "weighted avg       0.97      0.96      0.96     11575\n",
      "\n",
      "x_train shape is :(46298, 8)\n",
      "X_valid shape is :(11574, 8)\n",
      "The fold is : 2 : \n",
      "              precision    recall  f1-score   support\n",
      "\n",
      "           0       0.98      1.00      0.99      1929\n",
      "           1       0.98      0.83      0.90      1926\n",
      "           2       0.99      1.00      0.99      1930\n",
      "           3       0.99      1.00      1.00      1929\n",
      "           4       0.92      0.96      0.94      1930\n",
      "           5       0.93      1.00      0.96      1930\n",
      "\n",
      "    accuracy                           0.96     11574\n",
      "   macro avg       0.96      0.96      0.96     11574\n",
      "weighted avg       0.96      0.96      0.96     11574\n",
      "\n",
      "x_train shape is :(46298, 8)\n",
      "X_valid shape is :(11574, 8)\n",
      "The fold is : 3 : \n",
      "              precision    recall  f1-score   support\n",
      "\n",
      "           0       0.98      1.00      0.99      1930\n",
      "           1       0.97      0.83      0.89      1926\n",
      "           2       0.99      1.00      0.99      1930\n",
      "           3       0.99      1.00      1.00      1929\n",
      "           4       0.92      0.95      0.94      1929\n",
      "           5       0.93      0.99      0.96      1930\n",
      "\n",
      "    accuracy                           0.96     11574\n",
      "   macro avg       0.96      0.96      0.96     11574\n",
      "weighted avg       0.96      0.96      0.96     11574\n",
      "\n",
      "x_train shape is :(46298, 8)\n",
      "X_valid shape is :(11574, 8)\n",
      "The fold is : 4 : \n",
      "              precision    recall  f1-score   support\n",
      "\n",
      "           0       0.98      1.00      0.99      1930\n",
      "           1       0.97      0.82      0.89      1926\n",
      "           2       0.99      1.00      0.99      1931\n",
      "           3       0.99      1.00      0.99      1929\n",
      "           4       0.91      0.96      0.93      1929\n",
      "           5       0.93      0.99      0.96      1929\n",
      "\n",
      "    accuracy                           0.96     11574\n",
      "   macro avg       0.96      0.96      0.96     11574\n",
      "weighted avg       0.96      0.96      0.96     11574\n",
      "\n"
     ]
    }
   ],
   "source": [
    "acc_svm_rbf=[]\n",
    "kf=model_selection.StratifiedKFold(n_splits=5,shuffle=True,random_state=42)\n",
    "for fold , (trn_,val_) in enumerate(kf.split(X=df_resampled,y=y_res)):\n",
    "    \n",
    "    X_train=df_resampled.loc[trn_,feature_col]\n",
    "    y_train=df_resampled.loc[trn_,target_col]\n",
    "    \n",
    "    X_valid=df_resampled.loc[val_,feature_col]\n",
    "    y_valid=df_resampled.loc[val_,target_col]\n",
    "    print('x_train shape is :'+str(X_train.shape))\n",
    "    print('X_valid shape is :'+str(X_valid.shape))\n",
    "    ro_scaler=RobustScaler()\n",
    "    X_train=ro_scaler.fit_transform(X_train)\n",
    "    X_valid=ro_scaler.transform(X_valid)\n",
    "    \n",
    "    clf=SVC(kernel=\"rbf\")\n",
    "    clf.fit(X_train,y_train)\n",
    "    y_pred=clf.predict(X_valid)\n",
    "    print(f\"The fold is : {fold} : \")\n",
    "    print(classification_report(y_valid,y_pred))\n"
   ]
  },
  {
   "cell_type": "markdown",
   "id": "df9f6d8f",
   "metadata": {},
   "source": [
    "# Ensemble Design Pattern (Combining Classifiers)\n",
    "## Random forest classifier\n",
    "We have used Random forest classifier with 7 estimators"
   ]
  },
  {
   "cell_type": "code",
   "execution_count": 40,
   "id": "effc91e7",
   "metadata": {},
   "outputs": [
    {
     "name": "stdout",
     "output_type": "stream",
     "text": [
      "The fold is : 0 : \n",
      "              precision    recall  f1-score   support\n",
      "\n",
      "           0       0.99      1.00      1.00      1930\n",
      "           1       1.00      0.97      0.98      1927\n",
      "           2       0.99      1.00      1.00      1931\n",
      "           3       1.00      1.00      1.00      1929\n",
      "           4       0.99      1.00      1.00      1929\n",
      "           5       0.99      1.00      0.99      1929\n",
      "\n",
      "    accuracy                           0.99     11575\n",
      "   macro avg       0.99      0.99      0.99     11575\n",
      "weighted avg       0.99      0.99      0.99     11575\n",
      "\n",
      "The fold is : 1 : \n",
      "              precision    recall  f1-score   support\n",
      "\n",
      "           0       0.99      1.00      1.00      1930\n",
      "           1       0.99      0.96      0.98      1927\n",
      "           2       1.00      1.00      1.00      1930\n",
      "           3       1.00      1.00      1.00      1929\n",
      "           4       0.99      1.00      0.99      1930\n",
      "           5       0.99      1.00      0.99      1929\n",
      "\n",
      "    accuracy                           0.99     11575\n",
      "   macro avg       0.99      0.99      0.99     11575\n",
      "weighted avg       0.99      0.99      0.99     11575\n",
      "\n",
      "The fold is : 2 : \n",
      "              precision    recall  f1-score   support\n",
      "\n",
      "           0       0.99      1.00      1.00      1929\n",
      "           1       0.99      0.97      0.98      1926\n",
      "           2       1.00      1.00      1.00      1930\n",
      "           3       1.00      1.00      1.00      1929\n",
      "           4       0.99      0.99      0.99      1930\n",
      "           5       0.99      1.00      0.99      1930\n",
      "\n",
      "    accuracy                           0.99     11574\n",
      "   macro avg       0.99      0.99      0.99     11574\n",
      "weighted avg       0.99      0.99      0.99     11574\n",
      "\n",
      "The fold is : 3 : \n",
      "              precision    recall  f1-score   support\n",
      "\n",
      "           0       0.99      1.00      1.00      1930\n",
      "           1       1.00      0.97      0.98      1926\n",
      "           2       1.00      1.00      1.00      1930\n",
      "           3       1.00      1.00      1.00      1929\n",
      "           4       0.99      1.00      0.99      1929\n",
      "           5       0.99      1.00      0.99      1930\n",
      "\n",
      "    accuracy                           0.99     11574\n",
      "   macro avg       0.99      0.99      0.99     11574\n",
      "weighted avg       0.99      0.99      0.99     11574\n",
      "\n",
      "The fold is : 4 : \n",
      "              precision    recall  f1-score   support\n",
      "\n",
      "           0       0.99      1.00      1.00      1930\n",
      "           1       1.00      0.97      0.98      1926\n",
      "           2       1.00      1.00      1.00      1931\n",
      "           3       1.00      1.00      1.00      1929\n",
      "           4       0.99      1.00      1.00      1929\n",
      "           5       0.99      1.00      0.99      1929\n",
      "\n",
      "    accuracy                           0.99     11574\n",
      "   macro avg       0.99      0.99      0.99     11574\n",
      "weighted avg       0.99      0.99      0.99     11574\n",
      "\n"
     ]
    }
   ],
   "source": [
    "acc_RandF=[]\n",
    "kf=model_selection.StratifiedKFold(n_splits=5,shuffle=True,random_state=42)\n",
    "for fold , (trn_,val_) in enumerate(kf.split(X=df_resampled,y=y_res)):\n",
    "    \n",
    "    X_train=df_resampled.loc[trn_,feature_col]\n",
    "    y_train=df_resampled.loc[trn_,target_col]\n",
    "    \n",
    "    X_valid=df_resampled.loc[val_,feature_col]\n",
    "    y_valid=df_resampled.loc[val_,target_col]\n",
    "    ro_scaler=RobustScaler()\n",
    "    X_train=ro_scaler.fit_transform(X_train)\n",
    "    X_valid=ro_scaler.transform(X_valid)\n",
    "    \n",
    "    clf=RandomForestClassifier(n_estimators=7,criterion=\"entropy\")\n",
    "    clf.fit(X_train,y_train)\n",
    "    y_pred=clf.predict(X_valid)\n",
    "    print(f\"The fold is : {fold} : \")\n",
    "    print(classification_report(y_valid,y_pred))"
   ]
  }
 ],
 "metadata": {
  "kernelspec": {
   "display_name": "Python 3",
   "language": "python",
   "name": "python3"
  },
  "language_info": {
   "codemirror_mode": {
    "name": "ipython",
    "version": 3
   },
   "file_extension": ".py",
   "mimetype": "text/x-python",
   "name": "python",
   "nbconvert_exporter": "python",
   "pygments_lexer": "ipython3",
   "version": "3.9.6"
  }
 },
 "nbformat": 4,
 "nbformat_minor": 5
}
